{
  "nbformat": 4,
  "nbformat_minor": 0,
  "metadata": {
    "colab": {
      "name": "ML_SciKit_vs_Tf.ipynb",
      "provenance": [],
      "authorship_tag": "ABX9TyNPQAk6UIKsAOzO/t9CNTlC",
      "include_colab_link": true
    },
    "kernelspec": {
      "name": "python3",
      "display_name": "Python 3"
    },
    "language_info": {
      "name": "python"
    }
  },
  "cells": [
    {
      "cell_type": "markdown",
      "metadata": {
        "id": "view-in-github",
        "colab_type": "text"
      },
      "source": [
        "<a href=\"https://colab.research.google.com/github/a-dhingra/python-for-data-analysis/blob/master/ML_SciKit_vs_Tf.ipynb\" target=\"_parent\"><img src=\"https://colab.research.google.com/assets/colab-badge.svg\" alt=\"Open In Colab\"/></a>"
      ]
    },
    {
      "cell_type": "code",
      "execution_count": 2,
      "metadata": {
        "id": "FghUmv_zjYES"
      },
      "outputs": [],
      "source": [
        "import pandas as pd\n",
        "import numpy as np\n",
        "import matplotlib.pyplot as plt\n",
        "import timeit, time, sys, os\n"
      ]
    },
    {
      "cell_type": "code",
      "source": [
        "# Creating a random array of feature vector\n",
        "X = np.random.randint(low=3, high=20, size=5,)\n",
        "X"
      ],
      "metadata": {
        "colab": {
          "base_uri": "https://localhost:8080/"
        },
        "id": "70yT5_PlkHdf",
        "outputId": "949f4290-4c14-4e4b-e848-f8af16f2cf29"
      },
      "execution_count": 8,
      "outputs": [
        {
          "output_type": "execute_result",
          "data": {
            "text/plain": [
              "array([13, 12,  5, 19, 12])"
            ]
          },
          "metadata": {},
          "execution_count": 8
        }
      ]
    },
    {
      "cell_type": "code",
      "source": [
        "# Reshape the X vector to a matrix\n",
        "X = np.expand_dims(X, axis=-1)\n",
        "X"
      ],
      "metadata": {
        "colab": {
          "base_uri": "https://localhost:8080/"
        },
        "id": "f9maQTxskYjp",
        "outputId": "a0d90946-8d4f-49f9-d30a-6678912b5dab"
      },
      "execution_count": 9,
      "outputs": [
        {
          "output_type": "execute_result",
          "data": {
            "text/plain": [
              "array([[13],\n",
              "       [12],\n",
              "       [ 5],\n",
              "       [19],\n",
              "       [12]])"
            ]
          },
          "metadata": {},
          "execution_count": 9
        }
      ]
    },
    {
      "cell_type": "code",
      "source": [
        "# Creating the label for the dataset\n",
        "y = X + 10\n",
        "y"
      ],
      "metadata": {
        "colab": {
          "base_uri": "https://localhost:8080/"
        },
        "id": "38Y2LDc3mGWU",
        "outputId": "d02f0a72-39c1-46a4-9f48-02a225ddaf97"
      },
      "execution_count": 11,
      "outputs": [
        {
          "output_type": "execute_result",
          "data": {
            "text/plain": [
              "array([[23],\n",
              "       [22],\n",
              "       [15],\n",
              "       [29],\n",
              "       [22]])"
            ]
          },
          "metadata": {},
          "execution_count": 11
        }
      ]
    },
    {
      "cell_type": "code",
      "source": [
        "# Explore the nature of these arrays X and y\n",
        "print(f\"Array X: {X}\\nShape: {X.shape}\\nDtype: {X.dtype}\")\n",
        "print(f\"\\nArray y: {y}\\nShape: {y.shape}\\nDtype: {y.dtype}\")"
      ],
      "metadata": {
        "colab": {
          "base_uri": "https://localhost:8080/"
        },
        "id": "kHfjkPUXmNyQ",
        "outputId": "13f5e502-a6b7-400c-9366-f149e62296d7"
      },
      "execution_count": 12,
      "outputs": [
        {
          "output_type": "stream",
          "name": "stdout",
          "text": [
            "Array X: [[13]\n",
            " [12]\n",
            " [ 5]\n",
            " [19]\n",
            " [12]]\n",
            "Shape: (5, 1)\n",
            "Dtype: int64\n",
            "\n",
            "Array y: [[23]\n",
            " [22]\n",
            " [15]\n",
            " [29]\n",
            " [22]]\n",
            "Shape: (5, 1)\n",
            "Dtype: int64\n"
          ]
        }
      ]
    },
    {
      "cell_type": "code",
      "source": [
        "# Visualizing the dataset\n",
        "plt.scatter(X,y)"
      ],
      "metadata": {
        "colab": {
          "base_uri": "https://localhost:8080/",
          "height": 282
        },
        "id": "hIGY4lDqmpzR",
        "outputId": "6d89d4f9-2154-4d9f-93df-7c132a38e733"
      },
      "execution_count": 13,
      "outputs": [
        {
          "output_type": "execute_result",
          "data": {
            "text/plain": [
              "<matplotlib.collections.PathCollection at 0x7f9109213350>"
            ]
          },
          "metadata": {},
          "execution_count": 13
        },
        {
          "output_type": "display_data",
          "data": {
            "text/plain": [
              "<Figure size 432x288 with 1 Axes>"
            ],
            "image/png": "[encoded data removed]"
          },
          "metadata": {
            "needs_background": "light"
          }
        }
      ]
    },
    {
      "cell_type": "code",
      "source": [
        "# Training : Training is nothing but finding the values of coefficients and intercept.\n",
        "# Intercepts are also called BIASes. \n",
        "# Coefficients are also called WEIGHTs."
      ],
      "metadata": {
        "id": "KmEbhXBXoFnH"
      },
      "execution_count": 14,
      "outputs": []
    },
    {
      "cell_type": "markdown",
      "source": [
        "**Importing and using the model**"
      ],
      "metadata": {
        "id": "aNfLFnFUpX53"
      }
    },
    {
      "cell_type": "code",
      "source": [
        "# import the model from sklearn\n",
        "from sklearn.linear_model import LinearRegression"
      ],
      "metadata": {
        "id": "L32S-7s8ozGH"
      },
      "execution_count": 15,
      "outputs": []
    },
    {
      "cell_type": "code",
      "source": [
        "# instantiate the model\n",
        "model = LinearRegression()"
      ],
      "metadata": {
        "id": "Rgz9ockzo6jP"
      },
      "execution_count": 16,
      "outputs": []
    },
    {
      "cell_type": "code",
      "source": [
        "# Fit the model\n",
        "model.fit(X,y)"
      ],
      "metadata": {
        "colab": {
          "base_uri": "https://localhost:8080/"
        },
        "id": "ZYuSYzKao-yJ",
        "outputId": "cd6276e9-d371-4e3d-891c-a04c272e9153"
      },
      "execution_count": 17,
      "outputs": [
        {
          "output_type": "execute_result",
          "data": {
            "text/plain": [
              "LinearRegression()"
            ]
          },
          "metadata": {},
          "execution_count": 17
        }
      ]
    },
    {
      "cell_type": "code",
      "source": [
        "# Viewing the optimal value of intercept and co-eff calcualted by the model\n",
        "print(f\"Co-eff: {model.coef_}\\nIntercept: {model.intercept_}\")"
      ],
      "metadata": {
        "colab": {
          "base_uri": "https://localhost:8080/"
        },
        "id": "h8R7I1LypCjD",
        "outputId": "db82b605-0d2d-4546-cfb2-d535da0e4218"
      },
      "execution_count": 18,
      "outputs": [
        {
          "output_type": "stream",
          "name": "stdout",
          "text": [
            "Co-eff: [[1.]]\n",
            "Intercept: [10.]\n"
          ]
        }
      ]
    },
    {
      "cell_type": "markdown",
      "source": [
        "**Predicting a value and calculating the MAE and MSE**"
      ],
      "metadata": {
        "id": "5t4Uy_jQpe5b"
      }
    },
    {
      "cell_type": "code",
      "source": [
        "# Checking the outcome for a single 1X1 input matrix\n",
        "model.predict([[10]])"
      ],
      "metadata": {
        "colab": {
          "base_uri": "https://localhost:8080/"
        },
        "id": "iFuZUniUpPPa",
        "outputId": "6d542e91-fe32-41a9-8322-270833525f2a"
      },
      "execution_count": 19,
      "outputs": [
        {
          "output_type": "execute_result",
          "data": {
            "text/plain": [
              "array([[20.]])"
            ]
          },
          "metadata": {},
          "execution_count": 19
        }
      ]
    },
    {
      "cell_type": "code",
      "source": [
        "# Importing the MSE and MAE from sklearn\n",
        "from sklearn.metrics import mean_absolute_error, mean_squared_error"
      ],
      "metadata": {
        "id": "fRLAKFk6ppaB"
      },
      "execution_count": 20,
      "outputs": []
    },
    {
      "cell_type": "code",
      "source": [
        "# Predicting the results y_pred on the original input matrix X\n",
        "y_pred = model.predict(X)"
      ],
      "metadata": {
        "id": "ObZf6EWduJs5"
      },
      "execution_count": 21,
      "outputs": []
    },
    {
      "cell_type": "code",
      "source": [
        "# Calculating the MAE and MSE\n",
        "mae = mean_absolute_error(y, y_pred)\n",
        "mse = mean_absolute_error(y, y_pred)\n",
        "print(f\"MAE: {mae}\\nMSE: {mse}\")"
      ],
      "metadata": {
        "colab": {
          "base_uri": "https://localhost:8080/"
        },
        "id": "6FjzWr1TuP4V",
        "outputId": "53e0f1c2-7767-4b91-ecb2-d14daed8e361"
      },
      "execution_count": 22,
      "outputs": [
        {
          "output_type": "stream",
          "name": "stdout",
          "text": [
            "MAE: 7.105427357601002e-16\n",
            "MSE: 7.105427357601002e-16\n"
          ]
        }
      ]
    },
    {
      "cell_type": "markdown",
      "source": [
        "**Using TensorFlow for DeepLearning approach**"
      ],
      "metadata": {
        "id": "iJRH0Htyv4f2"
      }
    },
    {
      "cell_type": "code",
      "source": [
        "# import the libraries\n",
        "import tensorflow as tf\n",
        "from tensorflow import keras"
      ],
      "metadata": {
        "id": "eZhWH74Dv3ms"
      },
      "execution_count": 23,
      "outputs": []
    },
    {
      "cell_type": "code",
      "source": [
        "# Set the random seed\n",
        "tf.random.set_seed(42)"
      ],
      "metadata": {
        "id": "Cxy2QvOeueUg"
      },
      "execution_count": 43,
      "outputs": []
    },
    {
      "cell_type": "code",
      "source": [
        "# 1. Create the model\n",
        "model = tf.keras.Sequential([\n",
        "                             tf.keras.layers.Input(shape=(1,1)), #define the input shape\n",
        "                             tf.keras.layers.Dense(1, name='outputLayer')  # Defining the output shape\n",
        "                             ], name='linearRegressor')"
      ],
      "metadata": {
        "id": "gYrq_yNvwPmA"
      },
      "execution_count": 44,
      "outputs": []
    },
    {
      "cell_type": "code",
      "source": [
        "# 2. Compile the model\n",
        "model.compile(loss=tf.keras.losses.MeanSquaredError(),\n",
        "              optimizer=tf.keras.optimizers.SGD(learning_rate=0.01, momentum=0.3),\n",
        "              metrics=['mae'])"
      ],
      "metadata": {
        "id": "WdxE5hL5wvd6"
      },
      "execution_count": 45,
      "outputs": []
    },
    {
      "cell_type": "code",
      "source": [
        "# 3. Visualize the model\n",
        "model.summary()"
      ],
      "metadata": {
        "colab": {
          "base_uri": "https://localhost:8080/"
        },
        "id": "VV83jz_yxG1o",
        "outputId": "d085aa00-6e09-4a88-d674-9cca365592d6"
      },
      "execution_count": 46,
      "outputs": [
        {
          "output_type": "stream",
          "name": "stdout",
          "text": [
            "Model: \"linearRegressor\"\n",
            "_________________________________________________________________\n",
            " Layer (type)                Output Shape              Param #   \n",
            "=================================================================\n",
            " outputLayer (Dense)         (None, 1, 1)              2         \n",
            "                                                                 \n",
            "=================================================================\n",
            "Total params: 2\n",
            "Trainable params: 2\n",
            "Non-trainable params: 0\n",
            "_________________________________________________________________\n"
          ]
        }
      ]
    },
    {
      "cell_type": "code",
      "source": [
        "# COnvert the data to tensors\n",
        "X = tf.constant(X)\n",
        "y = tf.constant(y)"
      ],
      "metadata": {
        "id": "xTgQjElo67xF"
      },
      "execution_count": 47,
      "outputs": []
    },
    {
      "cell_type": "code",
      "source": [
        "# 4. Fit the model\n",
        "History = model.fit(X,y, epochs=1000, validation_split=0.33, batch_size=10, verbose=0, shuffle=True)"
      ],
      "metadata": {
        "id": "kMWoHY947JVl"
      },
      "execution_count": 48,
      "outputs": []
    },
    {
      "cell_type": "code",
      "source": [
        "# 5. Viewing the value of bias and weights calculated by the model\n",
        "print(f\"Weights: {model.layers[0].weights}\\nBias: {model.layers[0].bias.numpy()}\")"
      ],
      "metadata": {
        "colab": {
          "base_uri": "https://localhost:8080/"
        },
        "id": "-Qw_Cfso7VTs",
        "outputId": "af6eb156-fc2d-4bf3-9e93-ff2dbc887b32"
      },
      "execution_count": 51,
      "outputs": [
        {
          "output_type": "stream",
          "name": "stdout",
          "text": [
            "Weights: [<tf.Variable 'outputLayer/kernel:0' shape=(1, 1) dtype=float32, numpy=array([[1.035969]], dtype=float32)>, <tf.Variable 'outputLayer/bias:0' shape=(1,) dtype=float32, numpy=array([9.595151], dtype=float32)>]\n",
            "Bias: [9.595151]\n"
          ]
        }
      ]
    },
    {
      "cell_type": "markdown",
      "source": [
        "**Predicting a value and calculating the MAE and MSE:**"
      ],
      "metadata": {
        "id": "AEbbBgSg_XKP"
      }
    },
    {
      "cell_type": "code",
      "source": [
        "# Checking the outcome for a single 1X1 input tensor(matrix)\n",
        "model.predict(tf.constant([[10]]))"
      ],
      "metadata": {
        "colab": {
          "base_uri": "https://localhost:8080/"
        },
        "id": "X9pizHDm_JRE",
        "outputId": "3d073f1d-6332-4328-99da-6bcf11cddd76"
      },
      "execution_count": 52,
      "outputs": [
        {
          "output_type": "execute_result",
          "data": {
            "text/plain": [
              "array([[[19.954842]]], dtype=float32)"
            ]
          },
          "metadata": {},
          "execution_count": 52
        }
      ]
    },
    {
      "cell_type": "code",
      "source": [
        "# Predicting the results y_pred on the original input matrix X\n",
        "y_preds = model.predict(X)"
      ],
      "metadata": {
        "id": "9eGCGU-3_lN8"
      },
      "execution_count": 53,
      "outputs": []
    },
    {
      "cell_type": "code",
      "source": [
        "# Chaing the y and Y_preds to vectors\n",
        "y = y.squeeze()\n",
        "y_preds = y_preds.squeeze()"
      ],
      "metadata": {
        "id": "R2ZPDu0R_ryC"
      },
      "execution_count": 57,
      "outputs": []
    },
    {
      "cell_type": "code",
      "source": [
        "# Calculating the MSE and MAE\n",
        "mae = tf.metrics.mean_absolute_error(y, y_preds)\n",
        "mse = tf.metrics.mean_squared_error(y, y_preds)\n",
        "print(f\"MAE: {mae}\\nMSE: {mse}\")"
      ],
      "metadata": {
        "colab": {
          "base_uri": "https://localhost:8080/"
        },
        "id": "RP7S9Frs_25M",
        "outputId": "e39e3b08-04cc-4dac-e9e6-b68ea2daf13e"
      },
      "execution_count": 58,
      "outputs": [
        {
          "output_type": "stream",
          "name": "stdout",
          "text": [
            "MAE: 0.12397422641515732\n",
            "MSE: 0.02671889401972294\n"
          ]
        }
      ]
    },
    {
      "cell_type": "code",
      "source": [
        ""
      ],
      "metadata": {
        "id": "oTFylLAcAYC1"
      },
      "execution_count": null,
      "outputs": []
    }
  ]
}